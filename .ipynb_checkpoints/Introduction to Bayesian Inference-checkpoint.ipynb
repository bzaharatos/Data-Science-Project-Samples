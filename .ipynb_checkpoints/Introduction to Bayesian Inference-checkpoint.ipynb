{
 "cells": [
  {
   "cell_type": "markdown",
   "metadata": {
    "nbgrader": {
     "grade": false,
     "grade_id": "cell-56b299edad3309f5",
     "locked": true,
     "schema_version": 3,
     "solution": false,
     "task": false
    }
   },
   "source": [
    "# Introduction to Bayesian Inference\n",
    "\n",
    "The goals of this assignment are to (1) apply Bayes' theorem in order to infer the value of an unknown parameter, (2) quantify your uncertainty about your inference, and (3) compare this \"Bayesian\" inference method with a frequentist method."
   ]
  },
  {
   "cell_type": "markdown",
   "metadata": {
    "nbgrader": {
     "grade": false,
     "grade_id": "cell-c0615f31aa3d46fc",
     "locked": true,
     "schema_version": 3,
     "solution": false,
     "task": false
    }
   },
   "source": [
    "# Problem #1: Stopping Rules \n",
    "\n",
    "\n",
    "(This question is modified from [this website](https://www2.isye.gatech.edu/~brani/isyebayes/bank/handout2.pdf).)\n",
    "\n",
    "Suppose health researches are studying the prevalence of a particular disease, $D$. If the percentage of people infected by $D$ in the population, $p$, is greater than 0.5, certain policies will be set to stop the spread of $D$. Researchers let $\\alpha = 0.05$, and collected the following data, where `1` = \"doesn't have $D$\" and `0` = \"does have $D$\".\n",
    "$$ 0, \\, 0, \\, 1,\\, 0,\\, 0, \\, 0,\\,  0,\\,  1,\\,  0,\\,  0, \\, 0, \\, 1$$\n",
    "\n",
    "After the data collection, a disagreement arose among researchers. Because of a lack of documentation, they could not remember which of the following methods were used to collect the data:\n",
    "\n",
    "\n",
    "- [Method \\#1]: Choose a random sample of size $n = 12$ from the population. Let $X$ be the number of people in their sample with $D$. (\"Stop when $n = 12$\".)\n",
    "\n",
    "- [Method \\#2]: Choose individuals from the population until $r=3$ individuals are found to not have $D$. Let $Y$ be the number of people who are observed to have $D$ (`0`) before $r=3$ individuals are found not to have $D$ (`1`). (\"Stop when $r = 3$\".)\n",
    "\n",
    "\n",
    "Notice that the data collected cannot distinguish between Method \\#1 and Method \\#2!\n",
    "\n",
    "**1.(a) What is the distribution of $X$?** \n",
    "\n"
   ]
  },
  {
   "cell_type": "markdown",
   "metadata": {
    "nbgrader": {
     "grade": true,
     "grade_id": "cell-0a4595ecc29a38e1",
     "locked": false,
     "points": 1,
     "schema_version": 3,
     "solution": true,
     "task": false
    }
   },
   "source": [
    "$X \\sim Binomial(12, p)$, since the number of trials is fixed."
   ]
  },
  {
   "cell_type": "markdown",
   "metadata": {
    "nbgrader": {
     "grade": false,
     "grade_id": "cell-33c7a987b18d694a",
     "locked": true,
     "schema_version": 3,
     "solution": false,
     "task": false
    }
   },
   "source": [
    "**1.(b) What is the distribution of $Y$?** \n"
   ]
  },
  {
   "cell_type": "markdown",
   "metadata": {
    "nbgrader": {
     "grade": true,
     "grade_id": "cell-5e3b0007892987f8",
     "locked": false,
     "points": 1,
     "schema_version": 3,
     "solution": true,
     "task": false
    }
   },
   "source": [
    "$Y \\sim NB(r,p)$; that is, $Y$ is [negative binomial](https://en.wikipedia.org/wiki/Negative_binomial_distribution), which is the number of \"failures\" until $r$ successes are observed."
   ]
  },
  {
   "cell_type": "markdown",
   "metadata": {
    "nbgrader": {
     "grade": false,
     "grade_id": "cell-ec06886c2628579d",
     "locked": true,
     "schema_version": 3,
     "solution": false,
     "task": false
    }
   },
   "source": [
    "**1.(c) What is the $p$-value for Method \\#1?**\n"
   ]
  },
  {
   "cell_type": "markdown",
   "metadata": {
    "nbgrader": {
     "grade": true,
     "grade_id": "cell-75f5e0083a970508",
     "locked": false,
     "points": 0,
     "schema_version": 3,
     "solution": true,
     "task": false
    }
   },
   "source": [
    "Note that $H_0: p = 0.5$ and, because we are interested in whether $p$ is greater than $0.5$, $H_1: p > 0.5$. "
   ]
  },
  {
   "cell_type": "code",
   "execution_count": 18,
   "metadata": {
    "nbgrader": {
     "grade": true,
     "grade_id": "cell-518bdfa37f077610",
     "locked": false,
     "points": 1,
     "schema_version": 3,
     "solution": true,
     "task": false
    }
   },
   "outputs": [
    {
     "data": {
      "text/html": [
       "9"
      ],
      "text/latex": [
       "9"
      ],
      "text/markdown": [
       "9"
      ],
      "text/plain": [
       "[1] 9"
      ]
     },
     "metadata": {},
     "output_type": "display_data"
    },
    {
     "data": {
      "text/html": [
       "0.072998046875"
      ],
      "text/latex": [
       "0.072998046875"
      ],
      "text/markdown": [
       "0.072998046875"
      ],
      "text/plain": [
       "[1] 0.07299805"
      ]
     },
     "metadata": {},
     "output_type": "display_data"
    },
    {
     "data": {
      "text/html": [
       "0.0729980468749999"
      ],
      "text/latex": [
       "0.0729980468749999"
      ],
      "text/markdown": [
       "0.0729980468749999"
      ],
      "text/plain": [
       "[1] 0.07299805"
      ]
     },
     "metadata": {},
     "output_type": "display_data"
    }
   ],
   "source": [
    "p0 = 0.5; \n",
    "x = c(0,0,1,0,0,0,0,1,0,0,0,1); n = length(x); \n",
    "s = n - sum(x); s; #1 represents \"does not have D\" so (n -sum) = # of people who have D\n",
    "1-pbinom(s-1,n,p0) #1 - cdf of binomial \n",
    "1-pbinom(s,n,p0) + dbinom(s,n,p0) #same as previous line"
   ]
  },
  {
   "cell_type": "markdown",
   "metadata": {
    "nbgrader": {
     "grade": false,
     "grade_id": "cell-8cfe235ebd1dd714",
     "locked": true,
     "schema_version": 3,
     "solution": false,
     "task": false
    }
   },
   "source": [
    "**1.(d) What is the $p$-value for Method \\#2?**\n",
    "\n",
    "\n"
   ]
  },
  {
   "cell_type": "code",
   "execution_count": 19,
   "metadata": {
    "nbgrader": {
     "grade": true,
     "grade_id": "cell-bb6fda7816b474a2",
     "locked": false,
     "points": 1,
     "schema_version": 3,
     "solution": true,
     "task": false
    }
   },
   "outputs": [
    {
     "data": {
      "text/html": [
       "0.03271484375"
      ],
      "text/latex": [
       "0.03271484375"
      ],
      "text/markdown": [
       "0.03271484375"
      ],
      "text/plain": [
       "[1] 0.03271484"
      ]
     },
     "metadata": {},
     "output_type": "display_data"
    }
   ],
   "source": [
    "1-pnbinom(s-1,3, p0) #1 - cdf of the negative binomial\n",
    "#1-pnbinom(s,3, p0) + dnbinom(s,3,p0) #same as previous line"
   ]
  },
  {
   "cell_type": "markdown",
   "metadata": {
    "nbgrader": {
     "grade": false,
     "grade_id": "cell-595c3710984466d6",
     "locked": true,
     "schema_version": 3,
     "solution": false,
     "task": false
    }
   },
   "source": [
    "**1.(e) Do you find the combination of these results troubling? Why or why not?**\n",
    "\n"
   ]
  },
  {
   "cell_type": "markdown",
   "metadata": {
    "nbgrader": {
     "grade": true,
     "grade_id": "cell-290e5736224b4ddb",
     "locked": false,
     "points": 1,
     "schema_version": 3,
     "solution": true,
     "task": false
    }
   },
   "source": [
    "This does seem troubling. Note that, if we assume that the data were generated according to the binomial distribution, the results are not statistically significant at $\\alpha = 0.05$. However, if we assume that the data were generated according to the *negative* binomial distribution, the results *are* statistically significant at $\\alpha = 0.05$. Information about the rule for stopping data collection impacts the inference made. Should this matter? It doesn't seem like it should! How often do we collect data and not know the stopping rule?!"
   ]
  },
  {
   "cell_type": "markdown",
   "metadata": {
    "nbgrader": {
     "grade": false,
     "grade_id": "cell-84ba876d50c5c708",
     "locked": true,
     "schema_version": 3,
     "solution": false,
     "task": false
    }
   },
   "source": [
    "**1.(f) Compute the Bayesian posterior distribution for $p$, and show that the posterior is the same, independent of the stopping rule used, and for any beta prior (maybe start with a $beta(1,1)$ prior). Note that both the binomial and the negative binomial have a beta conjugate prior:**\n",
    "\n",
    "- Binomial: If the sampling distribution for $x$ is Binomial$(n, p)$ with $n$ known, and the prior distribution is $beta(\\alpha, \\beta)$, the posterior distribution for $p$ is $beta(\\alpha + n\\bar{x}, \\beta + n – n\\bar{x})$.\n",
    "\n",
    "- Negative binomial: If the sampling distribution for $x$ is negative binomial$(r, p)$ with $r$ known, and the prior distribution is $beta(\\alpha, \\beta)$, the posterior distribution for $p$ is $beta(\\alpha + r, \\beta + n - r)$. "
   ]
  },
  {
   "cell_type": "code",
   "execution_count": 20,
   "metadata": {
    "nbgrader": {
     "grade": true,
     "grade_id": "cell-b3e29b825aade4ee",
     "locked": false,
     "points": 1,
     "schema_version": 3,
     "solution": true,
     "task": false
    }
   },
   "outputs": [],
   "source": [
    "alpha = 1; beta = 1;\n",
    "r = 3\n",
    "p_grid = seq(0,1, length.out = 200)\n",
    "prior = dbeta(p_grid, alpha, beta)\n",
    "post_b = dbeta(p_grid, alpha + n*mean(x), beta + n - n*mean(x))\n",
    "\n",
    "post_nb = dbeta(p_grid, alpha + r, beta + n - r)"
   ]
  },
  {
   "cell_type": "code",
   "execution_count": 21,
   "metadata": {
    "nbgrader": {
     "grade": true,
     "grade_id": "cell-da1c40e1c3bc7ecd",
     "locked": false,
     "points": 1,
     "schema_version": 3,
     "solution": true,
     "task": false
    }
   },
   "outputs": [
    {
     "data": {
      "text/html": [
       "0"
      ],
      "text/latex": [
       "0"
      ],
      "text/markdown": [
       "0"
      ],
      "text/plain": [
       "[1] 0"
      ]
     },
     "metadata": {},
     "output_type": "display_data"
    },
    {
     "data": {
      "image/png": "[encoded data removed]",
      "text/plain": [
       "plot without title"
      ]
     },
     "metadata": {},
     "output_type": "display_data"
    }
   ],
   "source": [
    "library(ggplot2)\n",
    "df = data.frame(p = p_grid, x = prior, y1 = post_b, y2 = post_nb)\n",
    "\n",
    "ggplot(df) + \n",
    "    geom_line(aes(p, x), col = \"#CFB87C\")+\n",
    "    geom_line(aes(x = p, y = y1), col = \"lightgray\") + \n",
    "    geom_line(aes(x = p, y = y2)) +\n",
    "    xlab(expression(p)) +\n",
    "    ylab(\"Density\") +\n",
    "    theme_bw()\n",
    "\n",
    "sum(post_b - post_nb)"
   ]
  },
  {
   "cell_type": "markdown",
   "metadata": {
    "nbgrader": {
     "grade": true,
     "grade_id": "cell-e21512598e5ebb01",
     "locked": false,
     "points": 1,
     "schema_version": 3,
     "solution": true,
     "task": false
    }
   },
   "source": [
    "There is no difference between posterior distributions, which suggests that Bayesian inference is not sensitive to stopping rules. That is, Bayesian inference obey's the likelihood principle:\n",
    "\n",
    "**Likelihood Principle**. In the inference about $\\theta$, after $\\mathbf{x}$ is observed, all relevant experimental information is contained in the likelihood function for the observed $\\mathbf{x}$. Furthermore, two likelihood functions contain the same information about $\\theta$ if they are proportional to each other."
   ]
  },
  {
   "cell_type": "markdown",
   "metadata": {
    "id": "MSxBEO62K_uN",
    "nbgrader": {
     "grade": false,
     "grade_id": "cell-2247018971e8b2f4",
     "locked": true,
     "schema_version": 3,
     "solution": false,
     "task": false
    }
   },
   "source": [
    "# Problem #2: Maximum likelihood vs Bayesian inference\n",
    "\n",
    "This question is inspired by an example in the book [Bernoulli's Fallacy](https://cup.columbia.edu/book/bernoullis-fallacy/9780231199940).\n",
    "\n",
    "Imagine that, before class, I rolled a six-sided die and secretly recorded the outcome; this number is the target, $T$. Your goal in this problem is to guess $T$. \n",
    "\n",
    "There’s some evidence to take into account, however. Imagine that, after setting $T$, I roll the same six-sided die $10$ times. I don’t let you see how it lands, but each time I tell you (accurately) whether the number you just rolled was greater than, equal to, or less than $T$. After $10$ trials, you must guess what the target is. Here is the outcome of those $10$ trials:\n",
    "\n",
    "$\\mathbf{x} = (G, G, G, E, L, G, L, E, G, E)$\n",
    "\n",
    "where \n",
    "- $G$ = the roll was greater than $T$\n",
    "- $L$ = the roll was less than $T$, and \n",
    "- $E$ = the roll was equal to $T$.\n",
    "\n",
    "Let's use Bayes' theorem to come up with a strategy for guessing $T$."
   ]
  },
  {
   "cell_type": "markdown",
   "metadata": {
    "id": "g6xRlkd2K_uR",
    "nbgrader": {
     "grade": false,
     "grade_id": "cell-655b20dbbd0fd8fa",
     "locked": true,
     "schema_version": 3,
     "solution": false,
     "task": false
    }
   },
   "source": [
    "Bayes' theorem tells us that, for $t = 1,...,6$:\n",
    "\n",
    "\\begin{align*}\n",
    "P(T = t \\, | \\, \\mathbf{x}) = \\frac{P(\\mathbf{x} \\, | \\, T = t)P(T=t)}{P(\\mathbf{x})}  = \\frac{P(\\mathbf{x} \\, | \\, T = t)P(T=t)}{\\sum^6_{t=1} P(\\mathbf{x} \\, | \\, T = t)P(T=t)},\n",
    "\\end{align*}\n",
    "\n",
    "where \n",
    "\n",
    "- $P(\\mathbf{x} \\, | \\, T = t)$ is the *likelihood function* of the data conditioned on $T = t$.\n",
    "\n",
    "- $P(T=t)$ is the *prior distribution* on $T=t$. Because I rolled the die in my office, the probability that $T=t$ for $t = 1,...,6$ is $P(T=t) = 1/6$. \n",
    "\n",
    "- $P(\\mathbf{x}) = \\sum^6_{t=1} P(\\mathbf{x} \\, | \\, T = t)P(T=t)$ is the probability of the *evidence*. The equality is given by the Law of Total Probability. \n",
    "\n",
    "- $P(T = t \\, | \\, \\mathbf{x})$ is the *posterior probability* of $T = t$ given the observations $\\mathbf{x}$.\n",
    "\n",
    "In order to compute the likelihood function for a given $T=t$, we'll need to calculate the probabilities of being less than ($p_l$), equal to ($p_e$), or greater than ($p_g$), $T = t$. \n",
    "\n",
    "For example, if $T = 1$, then $p_l = 0$ because it is not possible to roll less than a $1$. $p_e = 1/6$, because that's the probability of rolling a $1$. And $p_g = 5*(1/6) = 5/6$, because rolling greater than $1$ means rolling a $2$ **or** a $3$ **or** ... a $6$. The word **or** suggests summing each of the probabilities, and since each face has probability $1/6$, we multiply by $5$.\n",
    "\n",
    "**2.(a) Write down general formula (as a function of $t$) for $P(l \\, | \\, T = t)$, $P(e \\, | \\, T = t)$, and $P(g \\, | \\, T = t)$. This question is asking for a mathematical expression, not R code.**"
   ]
  },
  {
   "cell_type": "markdown",
   "metadata": {
    "nbgrader": {
     "grade": true,
     "grade_id": "cell-247ba8f16f787b09",
     "locked": false,
     "points": 1,
     "schema_version": 3,
     "solution": true,
     "task": false
    }
   },
   "source": [
    "The reasoning above suggests a general formula: for $t = 1,...,6$:\n",
    "\n",
    "\\begin{align*}\n",
    "P(l \\, | \\, T = t) &= (t-1)\\frac{1}{6} \\\\\n",
    "P(e \\, | \\, T = t) &= \\frac{1}{6} \\\\\n",
    "P(g \\, | \\, T = t) &= (6-t)\\frac{1}{6}\n",
    "\\end{align*}\n",
    "\n",
    "The cell below is an R function that takes in $T$ and calculates these probabilities."
   ]
  },
  {
   "cell_type": "markdown",
   "metadata": {
    "nbgrader": {
     "grade": false,
     "grade_id": "cell-56245db92125dd5e",
     "locked": true,
     "schema_version": 3,
     "solution": false,
     "task": false
    }
   },
   "source": [
    "**2.(b) Now, write an R function, called `p`, that takes in a value of $T$ and returns $P(l \\, | \\, T = t)$, $P(e \\, | \\, T = t)$, and $P(g \\, | \\, T = t)$.**"
   ]
  },
  {
   "cell_type": "code",
   "execution_count": 5,
   "metadata": {
    "id": "E0zD6u6vK_uR",
    "nbgrader": {
     "grade": true,
     "grade_id": "cell-e164cfffb6a23f03",
     "locked": false,
     "points": 1,
     "schema_version": 3,
     "solution": true,
     "task": false
    }
   },
   "outputs": [],
   "source": [
    "p = function(T){\n",
    "    p_l = (1/6)*(T-1); p_e = 1/6; p_g = (1/6)*(6-T)\n",
    "    p = c(p_l, p_e, p_g)\n",
    "    return(p)\n",
    "}"
   ]
  },
  {
   "cell_type": "markdown",
   "metadata": {
    "id": "K7xeW9BWK_uT",
    "nbgrader": {
     "grade": false,
     "grade_id": "cell-8c61d356eae717d7",
     "locked": true,
     "schema_version": 3,
     "solution": false,
     "task": false
    }
   },
   "source": [
    "Next, calculate the likelihood function for a given $T=t$ together (we don't quite know how to do this on our own...yet).\n",
    "\n",
    "Note that all of our rolls are independent, so the likelihood function - which is a joint probability density function (pdf) of the data given $T = t$ - is the product of the marginal pdfs, interpreted as a function of $t$.\n",
    "\n",
    "**2.(c) Write down the likelihood function for our data, $\\mathbf{x}$, given above in the problem description.**"
   ]
  },
  {
   "cell_type": "markdown",
   "metadata": {
    "nbgrader": {
     "grade": true,
     "grade_id": "cell-1d535a99a5c7cf7d",
     "locked": false,
     "points": 1,
     "schema_version": 3,
     "solution": true,
     "task": false
    }
   },
   "source": [
    "For our $\\mathbf{x} = (G, G, G, E, L, G, L, E, G, E)$, the likelihood is:\n",
    "\n",
    "$$P(\\mathbf{x} \\, | \\, T = t ) = \\left[P(g \\, | \\, T = t)\\right]^3P(e \\, | \\, T = t)P(l \\, | \\, T = t)P(g \\, | \\, T = t)P(l \\, | \\, T = t)P(e \\, | \\, T = t)P(g \\, | \\, T = t)P(e \\, | \\, T = t).$$\n",
    "\n",
    "Here's an R function that computes this likelihood function for a given $T$:"
   ]
  },
  {
   "cell_type": "markdown",
   "metadata": {
    "nbgrader": {
     "grade": false,
     "grade_id": "cell-c8e62fbc4c923c6b",
     "locked": true,
     "schema_version": 3,
     "solution": false,
     "task": false
    }
   },
   "source": [
    "**2.(d) Now, write an R function, called `likelihood`, that takes in a value of $T$ and returns the likelihood function.**"
   ]
  },
  {
   "cell_type": "code",
   "execution_count": 6,
   "metadata": {
    "id": "11nZnGg8K_uT",
    "nbgrader": {
     "grade": true,
     "grade_id": "cell-a7d1a43a0e38b082",
     "locked": false,
     "points": 1,
     "schema_version": 3,
     "solution": true,
     "task": false
    }
   },
   "outputs": [],
   "source": [
    "likelihood = function(T){\n",
    "    pp = p(T) #set the correct probabilities for l, g, and e\n",
    "    l = pp[3]^3*pp[2]*pp[1]*pp[3]*pp[1]*pp[2]*pp[3]*pp[2]\n",
    "    return(l)\n",
    "    }"
   ]
  },
  {
   "cell_type": "markdown",
   "metadata": {
    "id": "GsMMiQNxK_uU",
    "nbgrader": {
     "grade": false,
     "grade_id": "cell-76d5ffce4b669071",
     "locked": true,
     "schema_version": 3,
     "solution": false,
     "task": false
    }
   },
   "source": [
    "**2.(e) Now, compute the probability of the data/evidence, $P(\\mathbf{x}) = \\sum^6_{t=1} P(\\mathbf{x} \\, | \\, T = t)P(T=t)$. (Note that this is tricky in general, since it requires that we change $T$, and thus change $p_l$, $p_e$, and $p_g$. Luckily, we wrote a function to do that above and took it into account in our likelihood function!)**"
   ]
  },
  {
   "cell_type": "code",
   "execution_count": 7,
   "metadata": {
    "id": "6JG9u2BFK_uU",
    "nbgrader": {
     "grade": true,
     "grade_id": "cell-c1b832eb65215f32",
     "locked": false,
     "points": 1,
     "schema_version": 3,
     "solution": true,
     "task": false
    }
   },
   "outputs": [],
   "source": [
    "prior = 1/6\n",
    "\n",
    "evidence = 1/6*(likelihood(1)+likelihood(2)\n",
    "            +likelihood(3)+likelihood(4)+likelihood(5)+likelihood(6));"
   ]
  },
  {
   "cell_type": "markdown",
   "metadata": {
    "id": "sDsvQuqvK_uU",
    "nbgrader": {
     "grade": false,
     "grade_id": "cell-a986cb2c0ad3b062",
     "locked": true,
     "schema_version": 3,
     "solution": false,
     "task": false
    }
   },
   "source": [
    "**2.(f) Now we have all of the components for computing the posterior. So, compute the posterior for each $T=t$ and plot it using a bar chart.**"
   ]
  },
  {
   "cell_type": "code",
   "execution_count": 8,
   "metadata": {
    "nbgrader": {
     "grade": true,
     "grade_id": "cell-e0594d065a5d975e",
     "locked": false,
     "points": 1,
     "schema_version": 3,
     "solution": true,
     "task": false
    }
   },
   "outputs": [
    {
     "data": {
      "text/html": [
       "<table>\n",
       "<thead><tr><th scope=col>side</th><th scope=col>post_prob</th></tr></thead>\n",
       "<tbody>\n",
       "\t<tr><td>1          </td><td>0.000000000</td></tr>\n",
       "\t<tr><td>2          </td><td>0.445217391</td></tr>\n",
       "\t<tr><td>3          </td><td>0.422608696</td></tr>\n",
       "\t<tr><td>4          </td><td>0.125217391</td></tr>\n",
       "\t<tr><td>5          </td><td>0.006956522</td></tr>\n",
       "\t<tr><td>6          </td><td>0.000000000</td></tr>\n",
       "</tbody>\n",
       "</table>\n"
      ],
      "text/latex": [
       "\\begin{tabular}{r|ll}\n",
       " side & post\\_prob\\\\\n",
       "\\hline\n",
       "\t 1           & 0.000000000\\\\\n",
       "\t 2           & 0.445217391\\\\\n",
       "\t 3           & 0.422608696\\\\\n",
       "\t 4           & 0.125217391\\\\\n",
       "\t 5           & 0.006956522\\\\\n",
       "\t 6           & 0.000000000\\\\\n",
       "\\end{tabular}\n"
      ],
      "text/markdown": [
       "\n",
       "| side | post_prob |\n",
       "|---|---|\n",
       "| 1           | 0.000000000 |\n",
       "| 2           | 0.445217391 |\n",
       "| 3           | 0.422608696 |\n",
       "| 4           | 0.125217391 |\n",
       "| 5           | 0.006956522 |\n",
       "| 6           | 0.000000000 |\n",
       "\n"
      ],
      "text/plain": [
       "  side post_prob  \n",
       "1 1    0.000000000\n",
       "2 2    0.445217391\n",
       "3 3    0.422608696\n",
       "4 4    0.125217391\n",
       "5 5    0.006956522\n",
       "6 6    0.000000000"
      ]
     },
     "metadata": {},
     "output_type": "display_data"
    },
    {
     "data": {
      "image/png": "[encoded data removed]",
      "text/plain": [
       "plot without title"
      ]
     },
     "metadata": {},
     "output_type": "display_data"
    }
   ],
   "source": [
    "posterior = matrix(NA, nrow = 6)\n",
    "for (T in 1:6){\n",
    "    posterior[T] = likelihood(T)*prior/evidence; \n",
    "    }\n",
    "\n",
    "library(ggplot2)\n",
    "\n",
    "df = data.frame(side = 1:6, post_prob = posterior)\n",
    "df\n",
    "ggplot(data=df, aes(x=side, y=post_prob)) +\n",
    "  geom_bar(stat=\"identity\") + \n",
    "    ylim(c(0,1)) + \n",
    "    xlab(\"Side\") +\n",
    "    theme_bw()"
   ]
  },
  {
   "cell_type": "markdown",
   "metadata": {
    "id": "AjrNKsuvK_uW",
    "nbgrader": {
     "grade": false,
     "grade_id": "cell-c7c80503d61c84db",
     "locked": true,
     "schema_version": 3,
     "solution": false,
     "task": false
    }
   },
   "source": [
    "**2.(g) Interpret the posterior distribution from the previous part. What value of $T$ would you guess and why? How does did your belief update from your prior?**"
   ]
  },
  {
   "cell_type": "markdown",
   "metadata": {
    "nbgrader": {
     "grade": true,
     "grade_id": "cell-2fa15fbb79591275",
     "locked": false,
     "points": 1,
     "schema_version": 3,
     "solution": true,
     "task": false
    }
   },
   "source": [
    "Well, we started out with a belief that any value of $T$ was as likely as any other, based on the way fair dice function. Then, we had some evidence, i.e., $\\mathbf{x}$. That evidence was relevant, and it changed our probabilities about $T$. It made $2$ most likely, $3$ almost as likely, and $4$ somewhat likely, $5$ unlikely, and $1$ and $6$ impossible.\n",
    "\n",
    "\n",
    "The nice thing about this method is that it not only provides a *guess* for $T$, i.e., $T = 2$, but it also gives a confidence measure, quantified in terms of probabilities. You might say that you are $\\approx 45\\%$ confident that $T = 2$."
   ]
  },
  {
   "cell_type": "markdown",
   "metadata": {
    "id": "IesUtV2WK_uW",
    "nbgrader": {
     "grade": false,
     "grade_id": "cell-a00ccd5a66b9fa77",
     "locked": true,
     "schema_version": 3,
     "solution": false,
     "task": false
    }
   },
   "source": [
    "**2.(h) Another strategy, as you know, is maximum likelihood estimation (MLE). MLE says that our best guess about $T$ should be the value of $T$ that maximizes the likelihood function over all values of $T$ ($1,...,6$). Calculate the MLE for the data $\\mathbf{x}$. In the first (markdown) cell, give a mathematical description of MLE for this problem. In the second (R) cell, compute the MLE.**\n"
   ]
  },
  {
   "cell_type": "markdown",
   "metadata": {
    "nbgrader": {
     "grade": true,
     "grade_id": "cell-48c58905bfbf272b",
     "locked": false,
     "points": 1,
     "schema_version": 3,
     "solution": true,
     "task": false
    }
   },
   "source": [
    "Luckily, we've already found the likelihood function. So MLE is just a matter of computing $P(\\mathbf{x} \\, ; \\, T = t)$ for $t = 1,...,6$, and choosing the \"argmax\", i.e., the value of $T = t$ that gives the highest probability. We can do this easily in R:"
   ]
  },
  {
   "cell_type": "code",
   "execution_count": 9,
   "metadata": {
    "id": "lsm-d8eTK_uW",
    "nbgrader": {
     "grade": true,
     "grade_id": "cell-fbd41b397fc38a0e",
     "locked": false,
     "points": 1,
     "schema_version": 3,
     "solution": true,
     "task": false
    },
    "outputId": "6515f40b-383f-4dd1-ca67-cd8f679c8cc6"
   },
   "outputs": [
    {
     "data": {
      "text/html": [
       "0"
      ],
      "text/latex": [
       "0"
      ],
      "text/markdown": [
       "0"
      ],
      "text/plain": [
       "[1] 0"
      ]
     },
     "metadata": {},
     "output_type": "display_data"
    },
    {
     "data": {
      "text/html": [
       "1.69350878084303e-05"
      ],
      "text/latex": [
       "1.69350878084303e-05"
      ],
      "text/markdown": [
       "1.69350878084303e-05"
      ],
      "text/plain": [
       "[1] 1.693509e-05"
      ]
     },
     "metadata": {},
     "output_type": "display_data"
    },
    {
     "data": {
      "text/html": [
       "1.60751028806584e-05"
      ],
      "text/latex": [
       "1.60751028806584e-05"
      ],
      "text/markdown": [
       "1.60751028806584e-05"
      ],
      "text/plain": [
       "[1] 1.60751e-05"
      ]
     },
     "metadata": {},
     "output_type": "display_data"
    },
    {
     "data": {
      "text/html": [
       "4.76299344612102e-06"
      ],
      "text/latex": [
       "4.76299344612102e-06"
      ],
      "text/markdown": [
       "4.76299344612102e-06"
      ],
      "text/plain": [
       "[1] 4.762993e-06"
      ]
     },
     "metadata": {},
     "output_type": "display_data"
    },
    {
     "data": {
      "text/html": [
       "2.64610747006723e-07"
      ],
      "text/latex": [
       "2.64610747006723e-07"
      ],
      "text/markdown": [
       "2.64610747006723e-07"
      ],
      "text/plain": [
       "[1] 2.646107e-07"
      ]
     },
     "metadata": {},
     "output_type": "display_data"
    },
    {
     "data": {
      "text/html": [
       "0"
      ],
      "text/latex": [
       "0"
      ],
      "text/markdown": [
       "0"
      ],
      "text/plain": [
       "[1] 0"
      ]
     },
     "metadata": {},
     "output_type": "display_data"
    }
   ],
   "source": [
    "#t = 1\n",
    "likelihood(1)\n",
    "#t = 2\n",
    "likelihood(2)\n",
    "#t = 3\n",
    "likelihood(3)\n",
    "#t = 4 ***\n",
    "likelihood(4)\n",
    "#t = 5\n",
    "likelihood(5)\n",
    "#t = 6\n",
    "likelihood(6)\n"
   ]
  },
  {
   "cell_type": "markdown",
   "metadata": {
    "nbgrader": {
     "grade": false,
     "grade_id": "cell-1e8ece908a63ec04",
     "locked": true,
     "schema_version": 3,
     "solution": false,
     "task": false
    }
   },
   "source": [
    "**2.(i) Now change your prior to be `prior = c(1/6, 1/6, 2/6, 1/6,1/6, 0)` and recompute the posterior distribution. Do you have a different guess? What might justify this prior? Can maximum likelihood estimation take into account this kind of adjustment?**"
   ]
  },
  {
   "cell_type": "code",
   "execution_count": 10,
   "metadata": {
    "nbgrader": {
     "grade": true,
     "grade_id": "cell-e5fcacbc61c392ff",
     "locked": false,
     "points": 1,
     "schema_version": 3,
     "solution": true,
     "task": false
    }
   },
   "outputs": [
    {
     "data": {
      "text/html": [
       "1"
      ],
      "text/latex": [
       "1"
      ],
      "text/markdown": [
       "1"
      ],
      "text/plain": [
       "[1] 1"
      ]
     },
     "metadata": {},
     "output_type": "display_data"
    },
    {
     "data": {
      "text/html": [
       "<table>\n",
       "<thead><tr><th scope=col>side</th><th scope=col>post_prob</th></tr></thead>\n",
       "<tbody>\n",
       "\t<tr><td>1          </td><td>0.000000000</td></tr>\n",
       "\t<tr><td>2          </td><td>0.312958435</td></tr>\n",
       "\t<tr><td>3          </td><td>0.594132029</td></tr>\n",
       "\t<tr><td>4          </td><td>0.088019560</td></tr>\n",
       "\t<tr><td>5          </td><td>0.004889976</td></tr>\n",
       "\t<tr><td>6          </td><td>0.000000000</td></tr>\n",
       "</tbody>\n",
       "</table>\n"
      ],
      "text/latex": [
       "\\begin{tabular}{r|ll}\n",
       " side & post\\_prob\\\\\n",
       "\\hline\n",
       "\t 1           & 0.000000000\\\\\n",
       "\t 2           & 0.312958435\\\\\n",
       "\t 3           & 0.594132029\\\\\n",
       "\t 4           & 0.088019560\\\\\n",
       "\t 5           & 0.004889976\\\\\n",
       "\t 6           & 0.000000000\\\\\n",
       "\\end{tabular}\n"
      ],
      "text/markdown": [
       "\n",
       "| side | post_prob |\n",
       "|---|---|\n",
       "| 1           | 0.000000000 |\n",
       "| 2           | 0.312958435 |\n",
       "| 3           | 0.594132029 |\n",
       "| 4           | 0.088019560 |\n",
       "| 5           | 0.004889976 |\n",
       "| 6           | 0.000000000 |\n",
       "\n"
      ],
      "text/plain": [
       "  side post_prob  \n",
       "1 1    0.000000000\n",
       "2 2    0.312958435\n",
       "3 3    0.594132029\n",
       "4 4    0.088019560\n",
       "5 5    0.004889976\n",
       "6 6    0.000000000"
      ]
     },
     "metadata": {},
     "output_type": "display_data"
    },
    {
     "data": {
      "image/png": "[encoded data removed]",
      "text/plain": [
       "plot without title"
      ]
     },
     "metadata": {},
     "output_type": "display_data"
    }
   ],
   "source": [
    "prior = c(1/6, 1/6, 2/6, 1/6,1/6, 0); sum(prior)\n",
    "\n",
    "evidence = prior[1]*likelihood(1) + prior[2]*likelihood(2)+ prior[3]*likelihood(3) + prior[4]*likelihood(4) + prior[5]*likelihood(5) + prior[6]*likelihood(6)\n",
    "\n",
    "posterior = matrix(NA, nrow = 6)\n",
    "for (T in 1:6){\n",
    "    posterior[T] = likelihood(T)*prior[T]/evidence; \n",
    "    }\n",
    "\n",
    "library(ggplot2)\n",
    "\n",
    "df = data.frame(side = 1:6, post_prob = posterior)\n",
    "df\n",
    "ggplot(data=df, aes(x=side, y=post_prob)) +\n",
    "  geom_bar(stat=\"identity\") + \n",
    "    ylim(c(0,1)) + \n",
    "    xlab(\"Side\") +\n",
    "    theme_bw()"
   ]
  },
  {
   "cell_type": "markdown",
   "metadata": {
    "nbgrader": {
     "grade": true,
     "grade_id": "cell-ec9ebd6aa0850988",
     "locked": false,
     "points": 1,
     "schema_version": 3,
     "solution": true,
     "task": false
    }
   },
   "source": [
    "- Our guess is now $T = 3$.\n",
    "- This prior may be justified, if, for example, we have prior information that $T = 3$ is more likely.\n",
    "- Maximum likelihood estimation does not formally take into account prior information, so it cannot take into account this adjustment."
   ]
  },
  {
   "cell_type": "markdown",
   "metadata": {
    "nbgrader": {
     "grade": false,
     "grade_id": "cell-43c6aebf6470e048",
     "locked": true,
     "schema_version": 3,
     "solution": false,
     "task": false
    }
   },
   "source": [
    "### Problem #3: Posterior predictive distribution simulation\n",
    "\n",
    "Let's continue with the setup from problem #1:\n",
    "\n",
    "Suppose health researches are studying the prevalence of a particular disease, $D$. If the percentage of people infected by $D$ in the population, $p$, is greater than 0.5, certain policies will be set to stop the spread of $D$. Researchers let $\\alpha = 0.05$, and collected the following data, where `1` = \"doesn't have $D$\" and `0` = \"does have $D$\".\n",
    "$$ 0, \\, 0, \\, 1,\\, 0,\\, 0, \\, 0,\\,  0,\\,  1,\\,  0,\\,  0, \\, 0, \\, 1$$\n",
    "\n",
    "If the sampling distribution for $X$ is Binomial$(n, p)$ with $n$ known, and the prior distribution is $beta(\\alpha, \\beta)$, then, as mentioned above, the posterior distribution for $p$ is $beta(\\alpha + n\\bar{x}, \\beta + n – n\\bar{x})$.\n",
    "\n",
    "Suppose that we want to predict $\\mathbf{X^*} = $ the number of individuals that do not have $D$ (i.e., the number of `1`s) among the next $n^*$ tests. For example, we might ask: What is the probability that, if we test $n^* = 10$ people, $\\mathbf{X^*} = 3$ test negative for $D$? In class, we saw that the posterior predictive distribution is given by:\n",
    "\n",
    "\\begin{align*}\n",
    "f(x^* \\, | \\, \\mathbf{x}) = \\int f(x^* \\, | \\, p)\\pi(p \\, | \\, \\mathbf{x})dp.\n",
    "\\end{align*}\n",
    "\n",
    "It's not always easy to compute this integral (I don't want to do it!). In *Bayesian Statistical Methods*, Reich and Ghosh (page 31) give us a method for estimating the posterior predictive distribution:\n",
    "\n",
    "1. draw a posterior sample: $p^* \\sim \\pi(p \\, | \\, \\mathbf{x})$. That is, generate a random number from the posterior.\n",
    "\n",
    "2. then generate a random number from the likelihood function, with parameter $p^*$: $x^* \\, | \\, p^* \\sim f(\\mathbf{x} \\, | \\, p^*)$ \n",
    "\n",
    "3. repeat 1-2 $m$ (many) times.\n",
    "\n",
    "The values of $x^*$ will follow the posterior predictive distribution.\n",
    "\n",
    "First, we code the data, and the posterior parameters $A$ and $B$."
   ]
  },
  {
   "cell_type": "code",
   "execution_count": 11,
   "metadata": {
    "nbgrader": {
     "grade": true,
     "grade_id": "cell-6eea88a54648b6de",
     "locked": false,
     "points": 0,
     "schema_version": 3,
     "solution": true,
     "task": false
    },
    "scrolled": false
   },
   "outputs": [],
   "source": [
    "x = c(0,0,1,0,0,0,0,1,0,0,0,1); n = length(x); \n",
    "\n",
    "alpha = 1; beta = 1; #parameters for a beta(1,1) = uniform(0,1)\n",
    "\n",
    "A = alpha + n*mean(x) #posterior \"alpha\"\n",
    "B =  beta + n - n*mean(x) #posterior \"beta\"\n",
    "\n",
    "m = 500000 #\"many times\", as given in step 3 above"
   ]
  },
  {
   "cell_type": "markdown",
   "metadata": {
    "nbgrader": {
     "grade": false,
     "grade_id": "cell-c9a593fe77fea5ab",
     "locked": true,
     "schema_version": 3,
     "solution": false,
     "task": false
    }
   },
   "source": [
    "Next, we sample from the posterior (first line in the loop) and use the sample to create a predicted value (second line in the loop). "
   ]
  },
  {
   "cell_type": "code",
   "execution_count": 12,
   "metadata": {
    "nbgrader": {
     "grade": true,
     "grade_id": "cell-98e81f87bebf9127",
     "locked": false,
     "points": 0,
     "schema_version": 3,
     "solution": true,
     "task": false
    }
   },
   "outputs": [],
   "source": [
    "pred_sim = matrix(NA, nrow = m) #initializing vector of simulated predictions\n",
    "n_star = 10; x_star = 0:n_star #fixing the number of future trials and possible values for x^*\n",
    "\n",
    "for (i in 1:m){\n",
    "    p_star = rbeta(1, A, B); #draw a posterior sample\n",
    "    pred_sim[i] = rbinom(1, n_star, p_star) #prediction from the likelihood\n",
    "}\n"
   ]
  },
  {
   "cell_type": "markdown",
   "metadata": {
    "nbgrader": {
     "grade": false,
     "grade_id": "cell-0b0f627775fb2e47",
     "locked": true,
     "schema_version": 3,
     "solution": false,
     "task": false
    }
   },
   "source": [
    "Then, we calculate the relative frequency of predicted values (e.g., what proportion of predicted values were 0? 1? ...). These relative frequencies are our estimated/simulated posterior predictive distribution. Finally, we plot these relative frequencies. "
   ]
  },
  {
   "cell_type": "code",
   "execution_count": 13,
   "metadata": {
    "nbgrader": {
     "grade": true,
     "grade_id": "cell-64bca77076440379",
     "locked": false,
     "points": 0,
     "schema_version": 3,
     "solution": true,
     "task": false
    }
   },
   "outputs": [],
   "source": [
    "#ppd_sim = matrix(0,ncol = n_star)\n",
    "ppd_sim = tabulate(as.factor(pred_sim))/m #count up the number of x^* values in each category and divide by m"
   ]
  },
  {
   "cell_type": "code",
   "execution_count": 14,
   "metadata": {
    "nbgrader": {
     "grade": true,
     "grade_id": "cell-ef138b497f0cbd8f",
     "locked": false,
     "points": 0,
     "schema_version": 3,
     "solution": true,
     "task": false
    }
   },
   "outputs": [
    {
     "data": {
      "text/html": [
       "<table>\n",
       "<thead><tr><th scope=col>x_star</th><th scope=col>ppd_sim</th></tr></thead>\n",
       "<tbody>\n",
       "\t<tr><td> 0      </td><td>0.080284</td></tr>\n",
       "\t<tr><td> 1      </td><td>0.170022</td></tr>\n",
       "\t<tr><td> 2      </td><td>0.211518</td></tr>\n",
       "\t<tr><td> 3      </td><td>0.200596</td></tr>\n",
       "\t<tr><td> 4      </td><td>0.153598</td></tr>\n",
       "\t<tr><td> 5      </td><td>0.098280</td></tr>\n",
       "\t<tr><td> 6      </td><td>0.052524</td></tr>\n",
       "\t<tr><td> 7      </td><td>0.023096</td></tr>\n",
       "\t<tr><td> 8      </td><td>0.007826</td></tr>\n",
       "\t<tr><td> 9      </td><td>0.002036</td></tr>\n",
       "\t<tr><td>10      </td><td>0.000220</td></tr>\n",
       "</tbody>\n",
       "</table>\n"
      ],
      "text/latex": [
       "\\begin{tabular}{r|ll}\n",
       " x\\_star & ppd\\_sim\\\\\n",
       "\\hline\n",
       "\t  0       & 0.080284\\\\\n",
       "\t  1       & 0.170022\\\\\n",
       "\t  2       & 0.211518\\\\\n",
       "\t  3       & 0.200596\\\\\n",
       "\t  4       & 0.153598\\\\\n",
       "\t  5       & 0.098280\\\\\n",
       "\t  6       & 0.052524\\\\\n",
       "\t  7       & 0.023096\\\\\n",
       "\t  8       & 0.007826\\\\\n",
       "\t  9       & 0.002036\\\\\n",
       "\t 10       & 0.000220\\\\\n",
       "\\end{tabular}\n"
      ],
      "text/markdown": [
       "\n",
       "| x_star | ppd_sim |\n",
       "|---|---|\n",
       "|  0       | 0.080284 |\n",
       "|  1       | 0.170022 |\n",
       "|  2       | 0.211518 |\n",
       "|  3       | 0.200596 |\n",
       "|  4       | 0.153598 |\n",
       "|  5       | 0.098280 |\n",
       "|  6       | 0.052524 |\n",
       "|  7       | 0.023096 |\n",
       "|  8       | 0.007826 |\n",
       "|  9       | 0.002036 |\n",
       "| 10       | 0.000220 |\n",
       "\n"
      ],
      "text/plain": [
       "   x_star ppd_sim \n",
       "1   0     0.080284\n",
       "2   1     0.170022\n",
       "3   2     0.211518\n",
       "4   3     0.200596\n",
       "5   4     0.153598\n",
       "6   5     0.098280\n",
       "7   6     0.052524\n",
       "8   7     0.023096\n",
       "9   8     0.007826\n",
       "10  9     0.002036\n",
       "11 10     0.000220"
      ]
     },
     "metadata": {},
     "output_type": "display_data"
    },
    {
     "data": {
      "image/png": "[encoded data removed]",
      "text/plain": [
       "plot without title"
      ]
     },
     "metadata": {},
     "output_type": "display_data"
    }
   ],
   "source": [
    "library(ggplot2)\n",
    "df = data.frame(x_star, ppd_sim); df\n",
    "ggplot(data=df, aes(x=x_star, y=ppd_sim)) +\n",
    "  geom_bar(stat=\"identity\") + \n",
    "    ylim(c(0,0.3)) + \n",
    "    xlab(\"Number without D\") +\n",
    "    theme_bw()"
   ]
  },
  {
   "cell_type": "markdown",
   "metadata": {
    "nbgrader": {
     "grade": false,
     "grade_id": "cell-41236e41be5bcd03",
     "locked": true,
     "schema_version": 3,
     "solution": false,
     "task": false
    }
   },
   "source": [
    "It turns out that the [true posterior predictive is beta-binomial](http://www.statslab.cam.ac.uk/Dept/People/djsteaching/ABS-lect3-4.pdf): \n",
    "\n",
    "\\begin{align*}\n",
    "f(x^* \\, | \\, \\mathbf{x}) = \\frac{\\Gamma(A,B)}{\\Gamma(A)\\Gamma(B)} {n^* \\choose x^* } \\frac{\\Gamma(A + x^*)\\Gamma(B + n^* - x^*)}{\\Gamma(A + B + n^*)}\n",
    "\\end{align*}\n",
    "\n",
    "We can code that!"
   ]
  },
  {
   "cell_type": "code",
   "execution_count": 15,
   "metadata": {
    "nbgrader": {
     "grade": true,
     "grade_id": "cell-ebcbb1bad5e3c763",
     "locked": false,
     "points": 0,
     "schema_version": 3,
     "solution": true,
     "task": false
    }
   },
   "outputs": [],
   "source": [
    " ppd = gamma(A+B)/(gamma(A)*gamma(B))*choose(n_star, x_star)*\n",
    "    gamma(A + x_star)*gamma(B + n_star - x_star)/gamma(A + B + n_star)"
   ]
  },
  {
   "cell_type": "code",
   "execution_count": 16,
   "metadata": {
    "nbgrader": {
     "grade": true,
     "grade_id": "cell-4482808a4fa21dc4",
     "locked": false,
     "points": 0,
     "schema_version": 3,
     "solution": true,
     "task": false
    }
   },
   "outputs": [
    {
     "data": {
      "text/html": [
       "<table>\n",
       "<thead><tr><th scope=col>x_star</th><th scope=col>ppd</th></tr></thead>\n",
       "<tbody>\n",
       "\t<tr><td> 0          </td><td>0.0807453416</td></tr>\n",
       "\t<tr><td> 1          </td><td>0.1699901929</td></tr>\n",
       "\t<tr><td> 2          </td><td>0.2124877411</td></tr>\n",
       "\t<tr><td> 3          </td><td>0.1999884622</td></tr>\n",
       "\t<tr><td> 4          </td><td>0.1531161664</td></tr>\n",
       "\t<tr><td> 5          </td><td>0.0979943465</td></tr>\n",
       "\t<tr><td> 6          </td><td>0.0524969713</td></tr>\n",
       "\t<tr><td> 7          </td><td>0.0230755918</td></tr>\n",
       "\t<tr><td> 8          </td><td>0.0079322347</td></tr>\n",
       "\t<tr><td> 9          </td><td>0.0019229660</td></tr>\n",
       "\t<tr><td>10          </td><td>0.0002499856</td></tr>\n",
       "</tbody>\n",
       "</table>\n"
      ],
      "text/latex": [
       "\\begin{tabular}{r|ll}\n",
       " x\\_star & ppd\\\\\n",
       "\\hline\n",
       "\t  0           & 0.0807453416\\\\\n",
       "\t  1           & 0.1699901929\\\\\n",
       "\t  2           & 0.2124877411\\\\\n",
       "\t  3           & 0.1999884622\\\\\n",
       "\t  4           & 0.1531161664\\\\\n",
       "\t  5           & 0.0979943465\\\\\n",
       "\t  6           & 0.0524969713\\\\\n",
       "\t  7           & 0.0230755918\\\\\n",
       "\t  8           & 0.0079322347\\\\\n",
       "\t  9           & 0.0019229660\\\\\n",
       "\t 10           & 0.0002499856\\\\\n",
       "\\end{tabular}\n"
      ],
      "text/markdown": [
       "\n",
       "| x_star | ppd |\n",
       "|---|---|\n",
       "|  0           | 0.0807453416 |\n",
       "|  1           | 0.1699901929 |\n",
       "|  2           | 0.2124877411 |\n",
       "|  3           | 0.1999884622 |\n",
       "|  4           | 0.1531161664 |\n",
       "|  5           | 0.0979943465 |\n",
       "|  6           | 0.0524969713 |\n",
       "|  7           | 0.0230755918 |\n",
       "|  8           | 0.0079322347 |\n",
       "|  9           | 0.0019229660 |\n",
       "| 10           | 0.0002499856 |\n",
       "\n"
      ],
      "text/plain": [
       "   x_star ppd         \n",
       "1   0     0.0807453416\n",
       "2   1     0.1699901929\n",
       "3   2     0.2124877411\n",
       "4   3     0.1999884622\n",
       "5   4     0.1531161664\n",
       "6   5     0.0979943465\n",
       "7   6     0.0524969713\n",
       "8   7     0.0230755918\n",
       "9   8     0.0079322347\n",
       "10  9     0.0019229660\n",
       "11 10     0.0002499856"
      ]
     },
     "metadata": {},
     "output_type": "display_data"
    },
    {
     "data": {
      "image/png": "[encoded data removed]",
      "text/plain": [
       "plot without title"
      ]
     },
     "metadata": {},
     "output_type": "display_data"
    }
   ],
   "source": [
    "df$ppd = ppd\n",
    "df[,c(1,3)]\n",
    "ggplot(data=df, aes(x=x_star, y=ppd)) +\n",
    "  geom_bar(stat=\"identity\") + \n",
    "    ylim(c(0,0.3)) + \n",
    "    xlab(\"Number without D\") +\n",
    "    theme_bw()"
   ]
  },
  {
   "cell_type": "markdown",
   "metadata": {
    "nbgrader": {
     "grade": false,
     "grade_id": "cell-133c8768788a8b20",
     "locked": true,
     "schema_version": 3,
     "solution": false,
     "task": false
    }
   },
   "source": [
    "That looks very similar to the simulated distribution. How similar? We can calculate the mean squared error, which should be small."
   ]
  },
  {
   "cell_type": "code",
   "execution_count": 17,
   "metadata": {
    "nbgrader": {
     "grade": true,
     "grade_id": "cell-51c2482dba3bb5b3",
     "locked": false,
     "points": 0,
     "schema_version": 3,
     "solution": true,
     "task": false
    }
   },
   "outputs": [
    {
     "data": {
      "text/html": [
       "<table>\n",
       "<thead><tr><th scope=col>x_star</th><th scope=col>ppd_sim</th><th scope=col>ppd</th></tr></thead>\n",
       "<tbody>\n",
       "\t<tr><td> 0          </td><td>0.080284    </td><td>0.0807453416</td></tr>\n",
       "\t<tr><td> 1          </td><td>0.170022    </td><td>0.1699901929</td></tr>\n",
       "\t<tr><td> 2          </td><td>0.211518    </td><td>0.2124877411</td></tr>\n",
       "\t<tr><td> 3          </td><td>0.200596    </td><td>0.1999884622</td></tr>\n",
       "\t<tr><td> 4          </td><td>0.153598    </td><td>0.1531161664</td></tr>\n",
       "\t<tr><td> 5          </td><td>0.098280    </td><td>0.0979943465</td></tr>\n",
       "\t<tr><td> 6          </td><td>0.052524    </td><td>0.0524969713</td></tr>\n",
       "\t<tr><td> 7          </td><td>0.023096    </td><td>0.0230755918</td></tr>\n",
       "\t<tr><td> 8          </td><td>0.007826    </td><td>0.0079322347</td></tr>\n",
       "\t<tr><td> 9          </td><td>0.002036    </td><td>0.0019229660</td></tr>\n",
       "\t<tr><td>10          </td><td>0.000220    </td><td>0.0002499856</td></tr>\n",
       "</tbody>\n",
       "</table>\n"
      ],
      "text/latex": [
       "\\begin{tabular}{r|lll}\n",
       " x\\_star & ppd\\_sim & ppd\\\\\n",
       "\\hline\n",
       "\t  0           & 0.080284     & 0.0807453416\\\\\n",
       "\t  1           & 0.170022     & 0.1699901929\\\\\n",
       "\t  2           & 0.211518     & 0.2124877411\\\\\n",
       "\t  3           & 0.200596     & 0.1999884622\\\\\n",
       "\t  4           & 0.153598     & 0.1531161664\\\\\n",
       "\t  5           & 0.098280     & 0.0979943465\\\\\n",
       "\t  6           & 0.052524     & 0.0524969713\\\\\n",
       "\t  7           & 0.023096     & 0.0230755918\\\\\n",
       "\t  8           & 0.007826     & 0.0079322347\\\\\n",
       "\t  9           & 0.002036     & 0.0019229660\\\\\n",
       "\t 10           & 0.000220     & 0.0002499856\\\\\n",
       "\\end{tabular}\n"
      ],
      "text/markdown": [
       "\n",
       "| x_star | ppd_sim | ppd |\n",
       "|---|---|---|\n",
       "|  0           | 0.080284     | 0.0807453416 |\n",
       "|  1           | 0.170022     | 0.1699901929 |\n",
       "|  2           | 0.211518     | 0.2124877411 |\n",
       "|  3           | 0.200596     | 0.1999884622 |\n",
       "|  4           | 0.153598     | 0.1531161664 |\n",
       "|  5           | 0.098280     | 0.0979943465 |\n",
       "|  6           | 0.052524     | 0.0524969713 |\n",
       "|  7           | 0.023096     | 0.0230755918 |\n",
       "|  8           | 0.007826     | 0.0079322347 |\n",
       "|  9           | 0.002036     | 0.0019229660 |\n",
       "| 10           | 0.000220     | 0.0002499856 |\n",
       "\n"
      ],
      "text/plain": [
       "   x_star ppd_sim  ppd         \n",
       "1   0     0.080284 0.0807453416\n",
       "2   1     0.170022 0.1699901929\n",
       "3   2     0.211518 0.2124877411\n",
       "4   3     0.200596 0.1999884622\n",
       "5   4     0.153598 0.1531161664\n",
       "6   5     0.098280 0.0979943465\n",
       "7   6     0.052524 0.0524969713\n",
       "8   7     0.023096 0.0230755918\n",
       "9   8     0.007826 0.0079322347\n",
       "10  9     0.002036 0.0019229660\n",
       "11 10     0.000220 0.0002499856"
      ]
     },
     "metadata": {},
     "output_type": "display_data"
    },
    {
     "data": {
      "text/html": [
       "1.69383453470911e-07"
      ],
      "text/latex": [
       "1.69383453470911e-07"
      ],
      "text/markdown": [
       "1.69383453470911e-07"
      ],
      "text/plain": [
       "[1] 1.693835e-07"
      ]
     },
     "metadata": {},
     "output_type": "display_data"
    }
   ],
   "source": [
    "df; \n",
    "mean((ppd-ppd_sim)^2)"
   ]
  },
  {
   "cell_type": "code",
   "execution_count": null,
   "metadata": {},
   "outputs": [],
   "source": []
  }
 ],
 "metadata": {
  "celltoolbar": "Create Assignment",
  "colab": {
   "name": "Dice Game Exercise.ipynb",
   "provenance": []
  },
  "kernelspec": {
   "display_name": "R",
   "language": "R",
   "name": "ir"
  },
  "language_info": {
   "codemirror_mode": "r",
   "file_extension": ".r",
   "mimetype": "text/x-r-source",
   "name": "R",
   "pygments_lexer": "r",
   "version": "3.6.1"
  }
 },
 "nbformat": 4,
 "nbformat_minor": 1
}
